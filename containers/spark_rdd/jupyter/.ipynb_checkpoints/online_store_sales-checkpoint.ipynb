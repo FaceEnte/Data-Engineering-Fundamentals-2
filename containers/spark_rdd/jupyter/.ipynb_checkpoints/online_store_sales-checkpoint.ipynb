{
 "cells": [
  {
   "cell_type": "code",
   "id": "initial_id",
   "metadata": {
    "collapsed": true
   },
   "source": [
    "import pyspark\n",
    "\n",
    "# Initialize spark\n",
    "conf = pyspark.SparkConf().setAppName(\"RetailRDD\").setMaster(\"local[4]\")\n",
    "sc = pyspark.SparkContext(conf=conf)\n",
    "\n"
   ],
   "outputs": [],
   "execution_count": null
  }
 ],
 "metadata": {
  "kernelspec": {
   "display_name": "Python 3",
   "language": "python",
   "name": "python3"
  },
  "language_info": {
   "codemirror_mode": {
    "name": "ipython",
    "version": 2
   },
   "file_extension": ".py",
   "mimetype": "text/x-python",
   "name": "python",
   "nbconvert_exporter": "python",
   "pygments_lexer": "ipython2",
   "version": "2.7.6"
  }
 },
 "nbformat": 4,
 "nbformat_minor": 5
}
