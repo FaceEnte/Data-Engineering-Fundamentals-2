{
 "cells": [
  {
   "cell_type": "code",
   "execution_count": 1,
   "id": "initial_id",
   "metadata": {},
   "outputs": [],
   "source": [
    "import pyspark\n",
    "\n",
    "# Initialize spark\n",
    "conf = pyspark.SparkConf().setAppName(\"RetailRDD\").setMaster(\"local[4]\")\n",
    "sc = pyspark.SparkContext(conf=conf)"
   ]
  },
  {
   "cell_type": "code",
   "execution_count": 2,
   "id": "6907cb87acc53098",
   "metadata": {},
   "outputs": [],
   "source": [
    "# Load the data\n",
    "data = sc.textFile(\"data/OnlineRetail.csv\")\n",
    "\n",
    "# Skip header\n",
    "header = data.first()\n",
    "rdd = data.filter(lambda row: row != header).map(lambda line: line.split(\"\\t\"))"
   ]
  },
  {
   "cell_type": "code",
   "execution_count": 3,
   "id": "9a0998eb9d260bfc",
   "metadata": {},
   "outputs": [
    {
     "name": "stdout",
     "output_type": "stream",
     "text": [
      "Number of sales transactions: 541909\n"
     ]
    }
   ],
   "source": [
    "# 1) Number of sales transactions\n",
    "num_transactions = rdd.count()\n",
    "print(f\"Number of sales transactions: {num_transactions}\")"
   ]
  },
  {
   "cell_type": "code",
   "execution_count": null,
   "id": "ae5241c5d1e6f757",
   "metadata": {},
   "outputs": [],
   "source": [
    "# 2) Percentage of cancelled transactions (InvoiceNo starts with 'C')\n",
    "percentage_cancelled = (rdd.filter(lambda x: x[0].startswith(\"C\")).count() / num_transactions) * 100\n",
    "print(f\"Percentage of cancelled transactions: {percentage_cancelled:.2f}%\")"
   ]
  },
  {
   "cell_type": "code",
   "execution_count": null,
   "id": "ea43814a1ba47fea",
   "metadata": {},
   "outputs": [],
   "source": [
    "# 3) Number of customers and products\n",
    "num_customers = rdd.map(lambda x: x[6]).distinct().count()\n",
    "num_products = rdd.map(lambda x: x[1]).distinct().count()\n",
    "print(f\"Number of customers: {num_customers}\")\n",
    "print(f\"Number of products: {num_products}\")"
   ]
  },
  {
   "cell_type": "code",
   "execution_count": null,
   "id": "67ef53b5308af007",
   "metadata": {},
   "outputs": [],
   "source": [
    "# 4) Number of customers per country\n",
    "customers_per_country = rdd.map(lambda x: (x[7], x[6])).distinct() \\\n",
    "                           .map(lambda x: (x[0], 1)) \\\n",
    "                           .reduceByKey(lambda a,b: a+b) \\\n",
    "                           .collect()\n",
    "print(\"Number of customers per country:\")\n",
    "for country, count in customers_per_country:\n",
    "    print(f\"{country}: {count}\")"
   ]
  },
  {
   "cell_type": "code",
   "execution_count": null,
   "id": "5eff4e94a6b49851",
   "metadata": {},
   "outputs": [],
   "source": [
    "# 5) Top 10 products by quantity / sales volume\n",
    "product_sales = rdd.map(lambda x: (x[1], (int(x[3]), float(x[3])*float(x[5])))) \\\n",
    "                   .reduceByKey(lambda a,b: (a[0]+b[0], a[1]+b[1]))\n",
    "\n",
    "top10_by_quantity = product_sales.map(lambda x: (x[0], x[1][0])) \\\n",
    "                                 .takeOrdered(10, key=lambda x: -x[1])\n",
    "top10_by_volume = product_sales.map(lambda x: (x[0], x[1][1])) \\\n",
    "                               .takeOrdered(10, key=lambda x: -x[1])\n",
    "\n",
    "print(\"Top 10 products by quantity:\")\n",
    "for p, q in top10_by_quantity:\n",
    "    print(f\"{p}: {q}\")\n",
    "\n",
    "print(\"Top 10 products by sales volume:\")\n",
    "for p, v in top10_by_volume:\n",
    "    print(f\"{p}: {v:.2f}\")"
   ]
  },
  {
   "cell_type": "code",
   "execution_count": null,
   "id": "ed050f39656386fa",
   "metadata": {},
   "outputs": [],
   "source": [
    "# 6) Number of products with Union Jack branding\n",
    "union_jack_products = rdd.filter(lambda x: \"Union Jack\" in x[2]).map(lambda x: x[1]).distinct().count()\n",
    "print(f\"Number of products with Union Jack branding: {union_jack_products}\")"
   ]
  },
  {
   "cell_type": "code",
   "execution_count": null,
   "id": "d200ea60e2ce203b",
   "metadata": {},
   "outputs": [],
   "source": [
    "# 7) Average number of distinct products per sale\n",
    "avg_products_per_invoice = rdd.map(lambda x: (x[0], x[1])).distinct() \\\n",
    "                              .map(lambda x: (x[0], 1)) \\\n",
    "                              .reduceByKey(lambda a,b: a+b) \\\n",
    "                              .map(lambda x: x[1]).mean()\n",
    "print(f\"Average number of distinct products per sale: {avg_products_per_invoice:.2f}\")"
   ]
  },
  {
   "cell_type": "code",
   "execution_count": null,
   "id": "498a6d17-ca30-4428-8229-4692ac5e0e12",
   "metadata": {},
   "outputs": [],
   "source": [
    "# 8) Sales volume per country in December 2010\n",
    "sales_dec_2010 = rdd.filter(lambda x: x[4].split(\" \")[0].split(\"/\")[2] == \"2010\" and x[4].split(\" \")[0].split(\"/\")[0] == \"12\") \\\n",
    "                    .map(lambda x: (x[7], float(x[3])*float(x[5]))) \\\n",
    "                    .reduceByKey(lambda a,b: a+b) \\\n",
    "                    .collect()\n",
    "\n",
    "print(\"Sales volume per country in December 2010:\")\n",
    "for country, volume in sales_dec_2010:\n",
    "    print(f\"{country}: {volume:.2f}\")"
   ]
  },
  {
   "cell_type": "code",
   "execution_count": null,
   "id": "4fdfaf07-cfe6-44db-8d37-8f303294f232",
   "metadata": {},
   "outputs": [],
   "source": []
  }
 ],
 "metadata": {
  "kernelspec": {
   "display_name": "Python 3 (ipykernel)",
   "language": "python",
   "name": "python3"
  },
  "language_info": {
   "codemirror_mode": {
    "name": "ipython",
    "version": 3
   },
   "file_extension": ".py",
   "mimetype": "text/x-python",
   "name": "python",
   "nbconvert_exporter": "python",
   "pygments_lexer": "ipython3",
   "version": "3.11.10"
  }
 },
 "nbformat": 4,
 "nbformat_minor": 5
}
