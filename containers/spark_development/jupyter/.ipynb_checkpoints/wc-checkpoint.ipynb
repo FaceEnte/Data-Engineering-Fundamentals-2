{
 "cells": [
  {
   "cell_type": "code",
   "execution_count": 18,
   "metadata": {},
   "outputs": [],
   "source": [
    "import pyspark"
   ]
  },
  {
   "cell_type": "code",
   "execution_count": 19,
   "metadata": {},
   "outputs": [],
   "source": [
    "conf = pyspark.SparkConf() \\\n",
    "        .setAppName(\"wordcount\") \\\n",
    "        .setMaster(\"local[4]\") \\\n",
    "        .set(\"spark.eventLog.enabled\",\"true\")\n",
    "\n",
    "sc = pyspark.SparkContext(conf=conf)\n",
    "# monitor http://localhost:4040"
   ]
  },
  {
   "cell_type": "code",
   "execution_count": 20,
   "metadata": {},
   "outputs": [],
   "source": [
    "def readData(dataFile):\n",
    "    global sc\n",
    "    dataRDD = sc.textFile(dataFile)\n",
    "    return dataRDD"
   ]
  },
  {
   "cell_type": "code",
   "execution_count": 21,
   "metadata": {},
   "outputs": [],
   "source": [
    "def printRDD(rdd):\n",
    "  for i in rdd.collect():\n",
    "    print(i)  "
   ]
  },
  {
   "cell_type": "code",
   "execution_count": 22,
   "metadata": {},
   "outputs": [],
   "source": [
    "dataRDD = readData(\"text.txt\")"
   ]
  },
  {
   "cell_type": "code",
   "execution_count": 23,
   "metadata": {},
   "outputs": [],
   "source": [
    "dataRDD = dataRDD.flatMap(lambda line: line.split(\" \"))"
   ]
  },
  {
   "cell_type": "code",
   "execution_count": 24,
   "metadata": {},
   "outputs": [
    {
     "name": "stdout",
     "output_type": "stream",
     "text": [
      "to\n",
      "be\n",
      "or\n",
      "not\n",
      "to\n",
      "be\n",
      "let\n",
      "us\n",
      "say\n",
      "be\n"
     ]
    }
   ],
   "source": [
    "printRDD(dataRDD)"
   ]
  },
  {
   "cell_type": "code",
   "execution_count": 25,
   "metadata": {},
   "outputs": [],
   "source": [
    "dataRDD = dataRDD.map(lambda word: (word,1))"
   ]
  },
  {
   "cell_type": "code",
   "execution_count": 26,
   "metadata": {},
   "outputs": [
    {
     "name": "stdout",
     "output_type": "stream",
     "text": [
      "('to', 1)\n",
      "('be', 1)\n",
      "('or', 1)\n",
      "('not', 1)\n",
      "('to', 1)\n",
      "('be', 1)\n",
      "('let', 1)\n",
      "('us', 1)\n",
      "('say', 1)\n",
      "('be', 1)\n"
     ]
    }
   ],
   "source": [
    "printRDD(dataRDD)"
   ]
  },
  {
   "cell_type": "code",
   "execution_count": 27,
   "metadata": {},
   "outputs": [],
   "source": [
    "dataRDD = dataRDD.reduceByKey(lambda count1, count2: count1 + count2)"
   ]
  },
  {
   "cell_type": "code",
   "execution_count": 28,
   "metadata": {},
   "outputs": [
    {
     "name": "stdout",
     "output_type": "stream",
     "text": [
      "('to', 2)\n",
      "('us', 1)\n",
      "('say', 1)\n",
      "('be', 3)\n",
      "('or', 1)\n",
      "('not', 1)\n",
      "('let', 1)\n"
     ]
    }
   ],
   "source": [
    "printRDD(dataRDD)"
   ]
  },
  {
   "cell_type": "code",
   "execution_count": 29,
   "metadata": {},
   "outputs": [],
   "source": [
    "sc.stop()"
   ]
  },
  {
   "cell_type": "code",
   "execution_count": null,
   "metadata": {},
   "outputs": [],
   "source": []
  }
 ],
 "metadata": {
  "kernelspec": {
   "display_name": "Python 3 (ipykernel)",
   "language": "python",
   "name": "python3"
  },
  "language_info": {
   "codemirror_mode": {
    "name": "ipython",
    "version": 3
   },
   "file_extension": ".py",
   "mimetype": "text/x-python",
   "name": "python",
   "nbconvert_exporter": "python",
   "pygments_lexer": "ipython3",
   "version": "3.11.10"
  }
 },
 "nbformat": 4,
 "nbformat_minor": 4
}
